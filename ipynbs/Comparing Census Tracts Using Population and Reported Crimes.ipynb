{
 "cells": [
  {
   "cell_type": "markdown",
   "metadata": {},
   "source": [
    "# Comparing Portland Census Tracts Using Population and Reported Crimes\n",
    "\n",
    "**Author:** Travis Hathaway\n",
    "\n",
    "**Summary:** The goal of this notebook is to setup all of the data necessary to feed an online map using OpenLayers. We will walk through the process of importing various data sources in PostgreSQL, process this data, and then generate a series of GEOJson files that our OpenLayers application can consume.\n",
    "\n",
    "**Data Sources:**\n",
    "\n",
    "- **Crime Reports Data:** ftp://ftp02.portlandoregon.gov/CivicApps/\n",
    "- **2010 Census Tracts:** http://navigator.state.or.us/sdl/data/2010census/tracts2010.zip\n",
    "\n",
    "**Requirements for running:**\n",
    "\n",
    "- Local instance of PostgreSQL with the PostGIS extension enabled\n",
    "- The following Python Libraries:\n",
    "    - psycopg\n",
    "- [ogr2ogr](http://www.gdal.org/index.html)\n",
    "- shp2pgsql\n",
    "- [csvsql](https://csvkit.readthedocs.io/en/1.0.1/)"
   ]
  },
  {
   "cell_type": "code",
   "execution_count": 17,
   "metadata": {
    "collapsed": true
   },
   "outputs": [],
   "source": [
    "import psycopg2\n",
    "import pandas as pd\n",
    "\n",
    "def get_conn():\n",
    "    conn_data = {\n",
    "        'database': 'crimestats2',\n",
    "        'user': 'travishathaway',\n",
    "        'host': 'localhost',\n",
    "        'password': ''\n",
    "    }\n",
    "\n",
    "    return psycopg2.connect(**conn_data)"
   ]
  },
  {
   "cell_type": "markdown",
   "metadata": {},
   "source": [
    "### Step One: Importing our data to Postgres\n",
    "\n",
    "**Crime Reports Data:**\n",
    "\n",
    "For this data, I have written a bash script that does the following:\n",
    "- Retrieves the data from the FTP server it is stored.\n",
    "- Creates the tables in Postgres to store the data in\n",
    "- Loads the data\n",
    "\n",
    "**[You can view the script here](https://gist.github.com/travishathaway/1e6ffd0544ca7803f0e0ae4c630aaccf)**\n",
    "\n",
    "**2010 Census Tract Data**\n",
    "\n",
    "To load this data in to program, we simply run the shp2pgsql command. We know that the SRID for this shapefile is 2992, so we make sure to set it when loading the data in.\n",
    "\n",
    "```bash\n",
    "shp2pgsql -I -s 2992 Tracts_PL.shp public.or_census_tracts_2010 | psql crimestats2\n",
    "```"
   ]
  },
  {
   "cell_type": "markdown",
   "metadata": {},
   "source": [
    "### Step Two: Adding a geom field to our crime reports table\n",
    "\n",
    "In order to make performing spacial queries easier, we must first add a geom field to the our crime reports table. We will create this geom as a POINT geometry and then use the existing `x_coordinate` and `y_coordinate` fields to populate the new field. During this alter of the crime reports table, we will also reproject the points to the same projection used on the census tracts table, SRID 2992."
   ]
  },
  {
   "cell_type": "code",
   "execution_count": 4,
   "metadata": {
    "collapsed": false
   },
   "outputs": [],
   "source": [
    "conn = get_conn()\n",
    "cur = conn.cursor()\n",
    "\n",
    "add_geom_field_sql = \"SELECT AddGeometryColumn ('public','portland_crime_stats','geom',2992,'POINT',2)\"\n",
    "cur.execute(add_geom_field_sql)\n",
    "conn.commit()"
   ]
  },
  {
   "cell_type": "code",
   "execution_count": 7,
   "metadata": {
    "collapsed": false
   },
   "outputs": [],
   "source": [
    "set_geom_sql = \"\"\"\n",
    "    UPDATE portland_crime_stats\n",
    "    SET geom = ST_Transform(ST_SetSRID(ST_Point(x_coordinate, y_coordinate),2913), 2992)\n",
    "\"\"\"\n",
    "cur.execute(set_geom_sql)\n",
    "conn.commit()"
   ]
  },
  {
   "cell_type": "markdown",
   "metadata": {},
   "source": [
    "### Step Three: Create a table that will store our crime counts and fill it with data\n",
    "\n",
    "Now we will be counting the number of crimes in each census block by year.  This calculation is a lengthy process, so calculating it each time we need to retrieve this data would not be wise. Instead, we will run the calculation once, and store the results in a table that can later be join to our census tracts table."
   ]
  },
  {
   "cell_type": "markdown",
   "metadata": {},
   "source": [
    "Our current crime reports table has entries with location data"
   ]
  },
  {
   "cell_type": "code",
   "execution_count": 10,
   "metadata": {
    "collapsed": false
   },
   "outputs": [
    {
     "name": "stdout",
     "output_type": "stream",
     "text": [
      "90067\n"
     ]
    }
   ],
   "source": [
    "cur.execute('SELECT count(*) FROM portland_crime_stats WHERE geom IS NULL')\n",
    "print(cur.fetchone()[0])"
   ]
  },
  {
   "cell_type": "markdown",
   "metadata": {},
   "source": [
    "To make the spacial join just a little less taxing, we are going to create new table comprised only of rows where the `geom` field is not null"
   ]
  },
  {
   "cell_type": "code",
   "execution_count": 12,
   "metadata": {
    "collapsed": true
   },
   "outputs": [],
   "source": [
    "cur.execute(\"\"\"\n",
    "    SELECT * INTO portland_crime_stats_with_geom \n",
    "    FROM portland_crime_stats \n",
    "    WHERE geom IS NOT NULL\n",
    "\"\"\")\n",
    "conn.commit()"
   ]
  },
  {
   "cell_type": "markdown",
   "metadata": {},
   "source": [
    "Now we have this many rows:"
   ]
  },
  {
   "cell_type": "code",
   "execution_count": 14,
   "metadata": {
    "collapsed": false
   },
   "outputs": [
    {
     "name": "stdout",
     "output_type": "stream",
     "text": [
      "649349\n"
     ]
    }
   ],
   "source": [
    "cur.execute('SELECT count(*) FROM portland_crime_stats_with_geom')\n",
    "print(cur.fetchone()[0])"
   ]
  },
  {
   "cell_type": "markdown",
   "metadata": {},
   "source": [
    "Our census tract table also suffers from the same problem as our crime reports table.  Right now, that table has a census tracts from all over Oregon. To make our spacial join just a little more efficient, we will create a new table containing only census tracts from the \"Tri-County\" area."
   ]
  },
  {
   "cell_type": "code",
   "execution_count": 15,
   "metadata": {
    "collapsed": true
   },
   "outputs": [],
   "source": [
    "cur.execute(\"\"\"\n",
    "    SELECT * INTO tri_county_census_tracts \n",
    "    FROM or_census_tracts_2010 \n",
    "    WHERE cnty_name IN ('Multnomah', 'Washington', 'Clackamas')\n",
    "\"\"\")\n",
    "conn.commit()"
   ]
  },
  {
   "cell_type": "markdown",
   "metadata": {},
   "source": [
    "We can now see that we have made a significant reduction in the amount of joins we will be making with our spatial query."
   ]
  },
  {
   "cell_type": "code",
   "execution_count": 16,
   "metadata": {
    "collapsed": false
   },
   "outputs": [
    {
     "name": "stdout",
     "output_type": "stream",
     "text": [
      "All Tracts in Oregon: 834\n",
      "Tri-County Tracts: 355\n"
     ]
    }
   ],
   "source": [
    "cur.execute('SELECT count(*) FROM or_census_tracts_2010')\n",
    "all_tracts = cur.fetchone()[0]\n",
    "cur.execute('SELECT count(*) FROM tri_county_census_tracts')\n",
    "tri_county_tracts = cur.fetchone()[0]\n",
    "print(\"All Tracts in Oregon: {}\".format(all_tracts))\n",
    "print(\"Tri-County Tracts: {}\".format(tri_county_tracts))"
   ]
  },
  {
   "cell_type": "markdown",
   "metadata": {},
   "source": [
    "With all of that out of the way, we are now finally ready to make our big spatial query.  This query will join the `portland_crime_stats_with_geom` table and the `tri_county_census_tracts` tables and insert the results in to a new table `crime_reports_by_census_tract`.\n",
    "\n",
    "Because this query takes a long time to run, I advise against running it in a Jupyter Notebook. Please copy and paste this query, and run it in pgAdmin or psql:\n",
    "\n",
    "\n",
    "```sql\n",
    "    SELECT\n",
    "        c.geoid10, p.major_offense_type,\n",
    "        extract(year from p.report_date) as year,\n",
    "        count(*) as report_count\n",
    "    INTO\n",
    "        crime_reports_by_census_tract\n",
    "    FROM\n",
    "        tri_county_census_tracts c\n",
    "    RIGHT JOIN\n",
    "        portland_crime_stats_with_geom p\n",
    "    ON\n",
    "        ST_Intersects(c.geom, p.geom)\n",
    "    GROUP BY\n",
    "        c.geoid10, p.major_offense_type, extract(year from p.report_date)\n",
    "```"
   ]
  },
  {
   "cell_type": "markdown",
   "metadata": {},
   "source": [
    "Let's take a peak at what we have now:"
   ]
  },
  {
   "cell_type": "code",
   "execution_count": 18,
   "metadata": {
    "collapsed": true
   },
   "outputs": [],
   "source": [
    "df = pd.read_sql(\"SELECT * FROM crime_reports_by_census_tract\", conn)"
   ]
  },
  {
   "cell_type": "code",
   "execution_count": 19,
   "metadata": {
    "collapsed": false
   },
   "outputs": [
    {
     "data": {
      "text/html": [
       "<div>\n",
       "<table border=\"1\" class=\"dataframe\">\n",
       "  <thead>\n",
       "    <tr style=\"text-align: right;\">\n",
       "      <th></th>\n",
       "      <th>geoid10</th>\n",
       "      <th>major_offense_type</th>\n",
       "      <th>year</th>\n",
       "      <th>report_count</th>\n",
       "    </tr>\n",
       "  </thead>\n",
       "  <tbody>\n",
       "    <tr>\n",
       "      <th>0</th>\n",
       "      <td>41005020100</td>\n",
       "      <td>Burglary</td>\n",
       "      <td>2011.0</td>\n",
       "      <td>1</td>\n",
       "    </tr>\n",
       "    <tr>\n",
       "      <th>1</th>\n",
       "      <td>41005020100</td>\n",
       "      <td>Larceny</td>\n",
       "      <td>2006.0</td>\n",
       "      <td>1</td>\n",
       "    </tr>\n",
       "    <tr>\n",
       "      <th>2</th>\n",
       "      <td>41005020200</td>\n",
       "      <td>Assault, Simple</td>\n",
       "      <td>2013.0</td>\n",
       "      <td>1</td>\n",
       "    </tr>\n",
       "    <tr>\n",
       "      <th>3</th>\n",
       "      <td>41005020200</td>\n",
       "      <td>Forgery</td>\n",
       "      <td>2012.0</td>\n",
       "      <td>2</td>\n",
       "    </tr>\n",
       "    <tr>\n",
       "      <th>4</th>\n",
       "      <td>41005020200</td>\n",
       "      <td>Larceny</td>\n",
       "      <td>2012.0</td>\n",
       "      <td>2</td>\n",
       "    </tr>\n",
       "  </tbody>\n",
       "</table>\n",
       "</div>"
      ],
      "text/plain": [
       "       geoid10 major_offense_type    year  report_count\n",
       "0  41005020100           Burglary  2011.0             1\n",
       "1  41005020100            Larceny  2006.0             1\n",
       "2  41005020200    Assault, Simple  2013.0             1\n",
       "3  41005020200            Forgery  2012.0             2\n",
       "4  41005020200            Larceny  2012.0             2"
      ]
     },
     "execution_count": 19,
     "metadata": {},
     "output_type": "execute_result"
    }
   ],
   "source": [
    "df.head()"
   ]
  },
  {
   "cell_type": "markdown",
   "metadata": {},
   "source": [
    "As you can see, we have broken down the data set by census tract (geoid10) offense type and year. We now have a corresponding count that we can use to create a choropleth map using OpenLayers, and a means by which we can make comparisions among census tracts."
   ]
  },
  {
   "cell_type": "markdown",
   "metadata": {},
   "source": [
    "### Step Four: Create our GeoJSON files\n",
    "Now we need to convert our data in to something OpenLayers can consume. For this, we will use the GeoJSON format.\n",
    "\n",
    "To perform this, we will be using the `ogr2ogr` program.  The following bash script will generate a GeoJSON file for each year in our dataset.\n",
    "\n",
    "```bash\n",
    "\n",
    "for year in $(echo 200{4..9} 201{0..4})\n",
    "do \n",
    "    query=\"SELECT\n",
    "        c.geoid10, c.year, t.pop10, ST_Transform(t.geom, 4326), t.cnty_name, \n",
    "        sum(c.report_count) as report_count\n",
    "    FROM \n",
    "        crime_reports_by_census_tract c\n",
    "    LEFT JOIN\n",
    "        tri_county_census_tracts t\n",
    "    ON\n",
    "        c.geoid10 = t.geoid10\n",
    "    WHERE\n",
    "        c.year = $year\n",
    "    GROUP BY\n",
    "        c.geoid10, c.year, t.pop10, t.geom, t.cnty_name\"\n",
    "\n",
    "    ogr2ogr -f GeoJSON census_tracts_$year.json 'PG:host=localhost dbname=crimestats2 user=travishathaway ' -sql $query\n",
    "done\n",
    "\n",
    "```"
   ]
  },
  {
   "cell_type": "code",
   "execution_count": null,
   "metadata": {
    "collapsed": true
   },
   "outputs": [],
   "source": []
  }
 ],
 "metadata": {
  "kernelspec": {
   "display_name": "Python 3",
   "language": "python",
   "name": "python3"
  }
 },
 "nbformat": 4,
 "nbformat_minor": 1
}
